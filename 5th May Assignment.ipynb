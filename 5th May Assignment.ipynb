{
 "cells": [
  {
   "cell_type": "markdown",
   "id": "09e9fd62-2f0a-479c-b4d3-00ca8b0cf846",
   "metadata": {},
   "source": [
    "# 5th May Assignment"
   ]
  },
  {
   "cell_type": "code",
   "execution_count": null,
   "id": "1f3dbf5b-899b-4d49-8aa7-8623ba50054e",
   "metadata": {},
   "outputs": [],
   "source": []
  },
  {
   "cell_type": "markdown",
   "id": "efa008e4-bbbb-4a3b-aeb8-7f57b88b8251",
   "metadata": {},
   "source": [
    "## Q1. What is meant by time-dependent seasonal components?"
   ]
  },
  {
   "cell_type": "markdown",
   "id": "aaf7ec15-e41a-485f-9245-cdcfb21f4bc4",
   "metadata": {},
   "source": [
    "Time-dependent seasonal components in time series data refer to patterns that exhibit variations or fluctuations at specific time points or intervals. These variations tend to repeat regularly over time and are associated with specific seasons or periods. Unlike static seasonal components that have consistent patterns across different time periods, time-dependent seasonal components allow for more flexibility by allowing the seasonal effects to change over time."
   ]
  },
  {
   "cell_type": "code",
   "execution_count": null,
   "id": "318a957f-1f5b-479f-9401-145c87defb88",
   "metadata": {},
   "outputs": [],
   "source": []
  },
  {
   "cell_type": "markdown",
   "id": "771417fe-bc71-447e-8968-9bf6374a8043",
   "metadata": {},
   "source": [
    "## Q2. How can time-dependent seasonal components be identified in time series data?"
   ]
  },
  {
   "cell_type": "markdown",
   "id": "26130935-02df-432e-a2dd-d207322d7738",
   "metadata": {},
   "source": [
    "Visual Inspection\n",
    "\n",
    "Box Plots\n",
    "\n",
    "ACF and PACF\n",
    "\n",
    "Statistical Test"
   ]
  },
  {
   "cell_type": "code",
   "execution_count": null,
   "id": "ba8baaef-86d7-42dc-953d-0893f3367257",
   "metadata": {},
   "outputs": [],
   "source": []
  },
  {
   "cell_type": "markdown",
   "id": "0bcc4aed-75cb-4830-a908-856c8d472867",
   "metadata": {},
   "source": [
    "## Q3. What are the factors that can influence time-dependent seasonal components?"
   ]
  },
  {
   "cell_type": "markdown",
   "id": "d5f2764b-f844-4306-8d3c-b938a3e095a4",
   "metadata": {},
   "source": [
    "Economic Factor\n",
    "\n",
    "Weather and Climate\n",
    "\n",
    "Supply chain cycle\n",
    "\n",
    "Technological Advances\n",
    "\n",
    "Global Events"
   ]
  },
  {
   "cell_type": "code",
   "execution_count": null,
   "id": "b6c715f5-3137-4fdc-be38-c0597c98aa8d",
   "metadata": {},
   "outputs": [],
   "source": []
  },
  {
   "cell_type": "markdown",
   "id": "665ef4e5-2c39-4fe1-a949-410e2598dcba",
   "metadata": {},
   "source": [
    "## Q4. How are autoregression models used in time series analysis and forecasting?"
   ]
  },
  {
   "cell_type": "markdown",
   "id": "c162f626-1540-4fde-8f48-7f8fe178ccaa",
   "metadata": {},
   "source": [
    "Auto-regression is very simple technique that can perform forecasting and also helps another model for forecasting.\n",
    "\n",
    "Auto-regression use previous data for forecasting.\n",
    "\n",
    "As a previous data we can take different lag values.\n",
    "\n",
    "We will calculate the PACF between time series and different lag values, and whatever lag value is highly correlated with it we will choose that lag value for forecasting."
   ]
  },
  {
   "cell_type": "code",
   "execution_count": null,
   "id": "a1b06d0a-482e-4d64-8066-5de6b5ef9b7e",
   "metadata": {},
   "outputs": [],
   "source": []
  },
  {
   "cell_type": "markdown",
   "id": "3ae4f9d4-1458-4190-896b-5c63297db5a8",
   "metadata": {},
   "source": [
    "## Q5. How do you use autoregression models to make predictions for future time points?"
   ]
  },
  {
   "cell_type": "markdown",
   "id": "6445a931-4082-4a1b-a154-3667f612144d",
   "metadata": {},
   "source": [
    "1. Auto-regression\n",
    "\n",
    "2. Model Training\n",
    "\n",
    "3. Prediction for Future time points\n",
    "\n",
    "4. Recursive Forecasting\n",
    "\n",
    "5. Model Evaluation\n",
    "\n",
    "6. Updating the Model"
   ]
  },
  {
   "cell_type": "code",
   "execution_count": null,
   "id": "144f98bf-ad01-447a-aeda-d37cdc384e8b",
   "metadata": {},
   "outputs": [],
   "source": []
  },
  {
   "cell_type": "markdown",
   "id": "e245efde-e1af-4bed-8a4a-ff1093c03439",
   "metadata": {},
   "source": [
    "## Q6. What is a moving average (MA) model and how does it differ from other time series models?"
   ]
  },
  {
   "cell_type": "markdown",
   "id": "2f1e181a-4e5b-4b12-961d-8d53fa409dc2",
   "metadata": {},
   "source": [
    "Moving average model is used for calculating the error.\n",
    "\n",
    "It is a part of ARIMA(Auto-Regressive Integrated Moving Average).\n",
    "\n",
    "* How does it differe from other time series models?\n",
    "\n",
    "1. Auto-Regression(AR) -  It models the dependency on past observations rather than past residual terms.\n",
    "\n",
    "2. Integrated Component(I) - The Integrated (I) component in ARIMA models represents the differencing of the time series to achieve stationarity. It is used to make the series stationary before applying AR and MA components."
   ]
  },
  {
   "cell_type": "code",
   "execution_count": null,
   "id": "c86c3715-fb30-4ea3-95b4-7019d3317a19",
   "metadata": {},
   "outputs": [],
   "source": []
  },
  {
   "cell_type": "markdown",
   "id": "ba62c442-1a4a-4849-b733-202ae27821c8",
   "metadata": {},
   "source": [
    "## Q7. What is a mixed ARMA model and how does it differ from an AR or MA model?"
   ]
  },
  {
   "cell_type": "markdown",
   "id": "87900973-847d-41a8-a3cf-9306e3bdca70",
   "metadata": {},
   "source": [
    "A Mixed Autoregressive Moving Average (ARMA) model combines both autoregressive (AR) and moving average (MA) components to capture the dependencies and patterns in a time series. \n",
    "\n",
    "* Differences from AR or MA model:\n",
    "\n",
    "1. AR Model\n",
    "\n",
    "An AR model focuses solely on the autoregressive component, modeling the relationship between the current value of the time series and its past values.\n",
    "\n",
    "2. MA Model\n",
    "\n",
    "An MA model, on the other hand, considers only the moving average component, modeling the impact of past residual terms on the current value of the time series. "
   ]
  },
  {
   "cell_type": "code",
   "execution_count": null,
   "id": "cedb85c8-1df7-44a4-adbc-d8aae7a266e5",
   "metadata": {},
   "outputs": [],
   "source": []
  }
 ],
 "metadata": {
  "kernelspec": {
   "display_name": "Python 3 (ipykernel)",
   "language": "python",
   "name": "python3"
  },
  "language_info": {
   "codemirror_mode": {
    "name": "ipython",
    "version": 3
   },
   "file_extension": ".py",
   "mimetype": "text/x-python",
   "name": "python",
   "nbconvert_exporter": "python",
   "pygments_lexer": "ipython3",
   "version": "3.10.8"
  }
 },
 "nbformat": 4,
 "nbformat_minor": 5
}
